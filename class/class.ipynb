{
 "cells": [
  {
   "cell_type": "markdown",
   "metadata": {},
   "source": [
    "## 创建和使用类\n",
    "### 创建dog类"
   ]
  },
  {
   "cell_type": "code",
   "execution_count": 15,
   "metadata": {},
   "outputs": [],
   "source": [
    "class Dog():\n",
    "    \"\"\"一次模拟小狗的尝试\"\"\"\n",
    "    \n",
    "    #默认方法\n",
    "    def __init__(self, name, age):\n",
    "        \"\"\"初始化属性name和age\"\"\"\n",
    "        self.name = name\n",
    "        self.age = age\n",
    "        \n",
    "    def sit(self):\n",
    "        \"\"\"模拟小狗被命令时蹲下\"\"\"\n",
    "        print(self.name.title() + \" is now sitting.\")\n",
    "    \n",
    "    def roll_over(self):\n",
    "        \"\"\"模拟小狗被命令时打滚\"\"\"\n",
    "        print(self.name.title() + \" rolled over!\")"
   ]
  },
  {
   "cell_type": "markdown",
   "metadata": {},
   "source": [
    "### 根据类创建实例\n",
    "**&emsp;访问属性  \n",
    "&emsp;调用方法  \n",
    "&emsp;创建多个实例**"
   ]
  },
  {
   "cell_type": "code",
   "execution_count": 25,
   "metadata": {},
   "outputs": [
    {
     "name": "stdout",
     "output_type": "stream",
     "text": [
      "My dog's name is Robi, 2 years old.\n",
      "Robi is now sitting.\n",
      "Robi rolled over!\n",
      "\n",
      "Your dog is senior to mine 1 year."
     ]
    }
   ],
   "source": [
    "my_dog = Dog('robi',2)\n",
    "print(\"My dog's name is\", my_dog.name.title() + ',', str(my_dog.age), \"years old.\")\n",
    "my_dog.sit()\n",
    "my_dog.roll_over()\n",
    "your_dog = Dog('doggie',3)\n",
    "print(\"\\nYour dog is senior to mine\", str(your_dog.age-my_dog.age), \"year.\", end = '')"
   ]
  },
  {
   "cell_type": "markdown",
   "metadata": {},
   "source": [
    "## 使用类和实例\n",
    "### Car类"
   ]
  },
  {
   "cell_type": "code",
   "execution_count": 28,
   "metadata": {},
   "outputs": [
    {
     "name": "stdout",
     "output_type": "stream",
     "text": [
      "2020 Audi A4\n"
     ]
    }
   ],
   "source": [
    "class Car():\n",
    "    \"\"\"一次模拟汽车的简单尝试\"\"\"\n",
    "    \n",
    "    def __init__(self, v1, v2, v3):\n",
    "        \"\"\"初始化描述汽车的属性\"\"\"\n",
    "        self.name = v1\n",
    "        self.model = v2\n",
    "        self.year = v3\n",
    "    \n",
    "    def get_descriptive_name(self):\n",
    "        \"\"\"返回整洁的描述性信息\"\"\"\n",
    "        long_name = str(self.year) + ' ' + self.name + ' ' + self.model\n",
    "        return long_name.title()\n",
    "\n",
    "new_car = Car('Audi', 'A4', 2020)\n",
    "print(new_car.get_descriptive_name())"
   ]
  },
  {
   "cell_type": "markdown",
   "metadata": {},
   "source": [
    "### 给属性指定默认值"
   ]
  },
  {
   "cell_type": "code",
   "execution_count": 7,
   "metadata": {},
   "outputs": [
    {
     "name": "stdout",
     "output_type": "stream",
     "text": [
      "This car has 0 miles on it.\n"
     ]
    }
   ],
   "source": [
    "class Car():\n",
    "    \"\"\"一次模拟汽车的简单尝试\"\"\"\n",
    "    \n",
    "    def __init__(self, v1, v2, v3):\n",
    "        \"\"\"初始化描述汽车的属性\"\"\"\n",
    "        self.make = v1\n",
    "        self.model = v2\n",
    "        self.year = v3\n",
    "        self.odometer_reading = 0\n",
    "        \n",
    "    def get_descriptive_name(self):\n",
    "        \"\"\"返回整洁的描述性信息\"\"\"\n",
    "        long_name = str(self.year) + ' ' + self.make + ' ' + self.model\n",
    "        return long_name.title()\n",
    "\n",
    "    def read_odometer(self):\n",
    "        \"\"\"打印出一条指出汽车里程的消息\"\"\"\n",
    "        print(\"This car has \" + str(self.odometer_reading) + \" miles on it.\")\n",
    "        \n",
    "new_car = Car('Audi', 'A8', 2020)\n",
    "new_car.read_odometer()"
   ]
  },
  {
   "cell_type": "markdown",
   "metadata": {},
   "source": [
    "### 直接修改属性的值"
   ]
  },
  {
   "cell_type": "code",
   "execution_count": 41,
   "metadata": {},
   "outputs": [
    {
     "name": "stdout",
     "output_type": "stream",
     "text": [
      "This car has 0 miles on it.\n",
      "This car has 999 miles on it.\n"
     ]
    }
   ],
   "source": [
    "new_car1 = Car('Audi', 'A9', '2021')\n",
    "new_car1.read_odometer()\n",
    "new_car1.odometer_reading = 999\n",
    "new_car1.read_odometer()"
   ]
  },
  {
   "cell_type": "markdown",
   "metadata": {},
   "source": [
    "### 通过方法修改属性的值\n",
    "### 通过方法对属性的值进行递增\n",
    "___"
   ]
  },
  {
   "cell_type": "markdown",
   "metadata": {},
   "source": [
    "## 继承\n",
    "### 子类的方法__init__()\n",
    "&emsp; 创建子类的实例时，Python首先需要完成的任务是给父亲的所有属性赋值。"
   ]
  },
  {
   "cell_type": "code",
   "execution_count": 8,
   "metadata": {},
   "outputs": [
    {
     "name": "stdout",
     "output_type": "stream",
     "text": [
      "2019 Tesla Model S\n",
      "tesla\n"
     ]
    }
   ],
   "source": [
    "class ElectricCar(Car):\n",
    "    \"\"\"电动汽车的独特之处\"\"\"\n",
    "    def __init__(self, make, model, year):\n",
    "        \"\"\"初始化父类的属性\"\"\"\n",
    "        super().__init__(make,model,year)\n",
    "        \n",
    "my_tesla = ElectricCar('tesla', 'model s', '2019')\n",
    "print(my_tesla.get_descriptive_name())\n",
    "print(my_tesla.make)"
   ]
  },
  {
   "cell_type": "markdown",
   "metadata": {},
   "source": [
    "### 给子类定义属性和方法\n",
    "### 重写父类的方法\n",
    "### 将实例用作属性"
   ]
  },
  {
   "cell_type": "code",
   "execution_count": 14,
   "metadata": {},
   "outputs": [
    {
     "name": "stdout",
     "output_type": "stream",
     "text": [
      "This car has a 70 -KWH battery.\n",
      "70\n",
      "tesla\n"
     ]
    }
   ],
   "source": [
    "class Battery():\n",
    "    \"\"\"描述电动车的电瓶\"\"\"\n",
    "    def __init__(self, battery_size = 70):\n",
    "        \"\"\"初始化电瓶的属性\"\"\"\n",
    "        self.battery_size = battery_size\n",
    "        \n",
    "    def describe_battery(self):\n",
    "        \"\"\"打印电瓶容量描述信息\"\"\"\n",
    "        print(\"This car has a \" + str(self.battery_size) + \" -KWH battery.\")\n",
    "        \n",
    "class ElectricCar(Car):\n",
    "    \"\"\"电动汽车\"\"\"\n",
    "    def __init__(self, make, model, year):\n",
    "        \"\"\"\n",
    "        初始化父类的属性，再初始化电动汽车特有的属性\n",
    "        \"\"\"\n",
    "        super().__init__(make, model, year)\n",
    "        self.battery = Battery()\n",
    "\n",
    "my_tesla = ElectricCar('tesla', 'model s', '2019')\n",
    "my_tesla.battery.describe_battery()\n",
    "print(my_tesla.battery.battery_size)\n",
    "print(my_tesla.make)"
   ]
  }
 ],
 "metadata": {
  "kernelspec": {
   "display_name": "Python 3",
   "language": "python",
   "name": "python3"
  },
  "language_info": {
   "codemirror_mode": {
    "name": "ipython",
    "version": 3
   },
   "file_extension": ".py",
   "mimetype": "text/x-python",
   "name": "python",
   "nbconvert_exporter": "python",
   "pygments_lexer": "ipython3",
   "version": "3.8.2"
  }
 },
 "nbformat": 4,
 "nbformat_minor": 4
}
