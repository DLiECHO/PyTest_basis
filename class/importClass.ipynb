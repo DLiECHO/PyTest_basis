{
 "cells": [
  {
   "cell_type": "markdown",
   "metadata": {},
   "source": [
    "## 导入类\n",
    "___\n",
    "---\n",
    "### 导入单个类\n",
    "&emsp;可以将类存储在```.py```文件里，在主程序中导入，如在```my_car.py```中导入来自```car.py```的```class Car```\n",
    "```python\n",
    "from car import Car\n",
    "```\n",
    "---\n",
    "### 在一个模块中存储多个类：```class Car```、```class Battery```、```class ElectricCar```\n",
    "### 在一个模块中导入多个类\n",
    "&emsp;在```my_car.py```中导入来自```car.py```的```class Car```、```class ElectricCar```\n",
    "```python\n",
    "from car import Car, ElectricCar\n",
    "```\n",
    "---\n",
    "### 导入整个模块\n",
    "```python\n",
    "import car\n",
    "```\n",
    "---\n",
    "### 导入模块中的所有类\n",
    "```python\n",
    "from car import *\n",
    "```\n",
    "---\n",
    "### 在一个模块中导入另一个模块\n",
    "---\n",
    "### 自定义工作流程\n",
    "---\n",
    "### Python标准库\n",
    "---"
   ]
  }
 ],
 "metadata": {
  "kernelspec": {
   "display_name": "Python 3",
   "language": "python",
   "name": "python3"
  },
  "language_info": {
   "codemirror_mode": {
    "name": "ipython",
    "version": 3
   },
   "file_extension": ".py",
   "mimetype": "text/x-python",
   "name": "python",
   "nbconvert_exporter": "python",
   "pygments_lexer": "ipython3",
   "version": "3.8.2"
  }
 },
 "nbformat": 4,
 "nbformat_minor": 4
}
