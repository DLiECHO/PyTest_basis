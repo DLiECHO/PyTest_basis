{
 "cells": [
  {
   "cell_type": "code",
   "execution_count": 20,
   "metadata": {},
   "outputs": [
    {
     "name": "stdout",
     "output_type": "stream",
     "text": [
      "Hello!\n",
      "显示简单的问候语\n"
     ]
    }
   ],
   "source": [
    "def greet_user():\n",
    "    \"\"\"显示简单的问候语\"\"\"#文档字符串\n",
    "    print(\"Hello!\")\n",
    "greet_user()\n",
    "print(greet_user.__doc__)#调用文档字符串"
   ]
  },
  {
   "cell_type": "code",
   "execution_count": 5,
   "metadata": {},
   "outputs": [
    {
     "name": "stdout",
     "output_type": "stream",
     "text": [
      "\n",
      "I hava a dog.\n",
      "My dog's name is Ddd.\n",
      "\n",
      "I hava a dog.\n",
      "My dog's name is Ddd.\n"
     ]
    }
   ],
   "source": [
    "def describe_pet(animal_type, pet_name):\n",
    "    \"\"\"显示宠物的信息\"\"\"\n",
    "    print(\"\\nI hava a \" + animal_type + \".\")\n",
    "    print(\"My \" + animal_type + \"'s name is \" + pet_name.title() + \".\")\n",
    "    \n",
    "describe_pet('dog', 'ddd')#位置实参\n",
    "describe_pet(pet_name='ddd', animal_type='dog')#关键字实参"
   ]
  },
  {
   "cell_type": "code",
   "execution_count": 22,
   "metadata": {},
   "outputs": [
    {
     "name": "stdout",
     "output_type": "stream",
     "text": [
      "\n",
      "I hava a dog.\n",
      "My dog's name is G.\n",
      "\n",
      "I hava a dog.\n",
      "My dog's name is Q.\n",
      "\n",
      "I hava a cat.\n",
      "My cat's name is Ddddd.\n",
      "显示宠物的信息\n"
     ]
    }
   ],
   "source": [
    "def describe_pet(pet_name, animal_type='dog'):\n",
    "    #编写函数使用默认值时，被指定的变量需要在没有被指定变量后面\n",
    "    #假如第一个形参被指定了默认值，后面的没有被指定，当我们用位置实参去调用这个函数的时候，python不会因为某个变量有默认值就可能把他跳过\n",
    "    #也就是说，假如一共有两个变量，第一个有默认值，第二个没有，但我们调用它时，只传递了一个位置实参，python就只会用这个实参去覆盖有默认值的第一个变量，那第二个变量就没有值了，函数就会调用失败！\n",
    "    \n",
    "    \"\"\"显示宠物的信息\"\"\"\n",
    "    print(\"\\nI hava a \" + animal_type + \".\")\n",
    "    print(\"My \" + animal_type + \"'s name is \" + pet_name.title() + \".\")\n",
    "    \n",
    "describe_pet('g')\n",
    "describe_pet(pet_name='q')\n",
    "describe_pet('ddddd', 'cat')\n",
    "print(describe_pet.__doc__)"
   ]
  },
  {
   "cell_type": "code",
   "execution_count": 1,
   "metadata": {},
   "outputs": [],
   "source": [
    "def test(x, y):\n",
    "    print(\"x\" + y)\n",
    "test()"
   ]
  }
 ],
 "metadata": {
  "kernelspec": {
   "display_name": "Python 3",
   "language": "python",
   "name": "python3"
  },
  "language_info": {
   "codemirror_mode": {
    "name": "ipython",
    "version": 3
   },
   "file_extension": ".py",
   "mimetype": "text/x-python",
   "name": "python",
   "nbconvert_exporter": "python",
   "pygments_lexer": "ipython3",
   "version": "3.8.2"
  }
 },
 "nbformat": 4,
 "nbformat_minor": 4
}
