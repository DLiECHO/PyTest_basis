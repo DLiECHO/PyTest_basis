{
 "cells": [
  {
   "cell_type": "markdown",
   "metadata": {},
   "source": [
    "## 写入文件\n",
    "### 写入空文件"
   ]
  },
  {
   "cell_type": "code",
   "execution_count": 15,
   "metadata": {},
   "outputs": [],
   "source": [
    "#data = open('programming.txt')\n",
    "\n",
    "filename = 'programming.txt'\n",
    "\n",
    "with open(filename, 'w') as filob:\n",
    "    filob.write(\"朱冰青小聪明瓜\")"
   ]
  },
  {
   "cell_type": "markdown",
   "metadata": {},
   "source": [
    "### 写入多行"
   ]
  },
  {
   "cell_type": "code",
   "execution_count": 22,
   "metadata": {},
   "outputs": [
    {
     "name": "stdout",
     "output_type": "stream",
     "text": [
      "朱冰青小聪明瓜\n",
      "确实~\n"
     ]
    }
   ],
   "source": [
    "filename = 'programming.txt'\n",
    "\n",
    "with open(filename, 'w') as filob:\n",
    "    filob.write(\"朱冰青小聪明瓜\\n\")\n",
    "    filob.write(\"确实~\")\n",
    "    \n",
    "with open(filename) as filob:\n",
    "    print(filob.read())"
   ]
  },
  {
   "cell_type": "markdown",
   "metadata": {},
   "source": [
    "### 附件到文件"
   ]
  },
  {
   "cell_type": "code",
   "execution_count": 12,
   "metadata": {},
   "outputs": [
    {
     "name": "stdout",
     "output_type": "stream",
     "text": [
      "朱冰青小聪明瓜\n",
      "确实~\n",
      "不戳   不戳~\n"
     ]
    }
   ],
   "source": [
    "filename = 'programming.txt'\n",
    "\n",
    "with open(filename, 'a') as filob:\n",
    "    filob.write(\"\\n不戳   不戳~\")\n",
    "    \n",
    "with open(filename) as filob:\n",
    "    print(filob.read())"
   ]
  },
  {
   "cell_type": "markdown",
   "metadata": {},
   "source": [
    "# Question\n",
    "&emsp;&emsp;```r+```存在问题  \n",
    "&emsp;&emsp;**使用```r+```进行读写时，写入数据后接着读出来显示空白，如：**\n",
    "```python\n",
    "filename = 'programming.txt'\n",
    "with open(filename, 'r+') as filob:\n",
    "    filob.write(\"朱冰青小聪明瓜\\n\")\n",
    "    filob.write(\"确实~\")\n",
    "    print(filob.read())    \n",
    "```\n",
    "&emsp;&emsp;*以上```filob.read```显示为空*"
   ]
  }
 ],
 "metadata": {
  "kernelspec": {
   "display_name": "Python 3",
   "language": "python",
   "name": "python3"
  },
  "language_info": {
   "codemirror_mode": {
    "name": "ipython",
    "version": 3
   },
   "file_extension": ".py",
   "mimetype": "text/x-python",
   "name": "python",
   "nbconvert_exporter": "python",
   "pygments_lexer": "ipython3",
   "version": "3.8.2"
  }
 },
 "nbformat": 4,
 "nbformat_minor": 4
}
