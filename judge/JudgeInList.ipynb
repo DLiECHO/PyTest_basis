{
 "cells": [
  {
   "cell_type": "code",
   "execution_count": 4,
   "metadata": {},
   "outputs": [],
   "source": [
    "L = []\n",
    "L == []\n",
    "if L:\n",
    "    for l in L:\n",
    "        print(l.title())"
   ]
  },
  {
   "cell_type": "code",
   "execution_count": 7,
   "metadata": {},
   "outputs": [
    {
     "data": {
      "text/plain": [
       "True"
      ]
     },
     "execution_count": 7,
     "metadata": {},
     "output_type": "execute_result"
    }
   ],
   "source": [
    "l1 = 1\n",
    "l2 = [1,2]\n",
    "l1 in l2"
   ]
  },
  {
   "cell_type": "code",
   "execution_count": 19,
   "metadata": {},
   "outputs": [
    {
     "name": "stdout",
     "output_type": "stream",
     "text": [
      "Here: 1\n",
      "Here: 2\n",
      "Here: 3\n",
      "无: 7\n"
     ]
    }
   ],
   "source": [
    "available = ['1','2','3','4','5','6']\n",
    "requested = ['1','2','3','7']\n",
    "for r in requested:\n",
    "    if r in available :print('Here: ' + r)\n",
    "    else:print('无: ' + r)"
   ]
  }
 ],
 "metadata": {
  "kernelspec": {
   "display_name": "Python 3",
   "language": "python",
   "name": "python3"
  },
  "language_info": {
   "codemirror_mode": {
    "name": "ipython",
    "version": 3
   },
   "file_extension": ".py",
   "mimetype": "text/x-python",
   "name": "python",
   "nbconvert_exporter": "python",
   "pygments_lexer": "ipython3",
   "version": "3.8.2"
  }
 },
 "nbformat": 4,
 "nbformat_minor": 4
}
