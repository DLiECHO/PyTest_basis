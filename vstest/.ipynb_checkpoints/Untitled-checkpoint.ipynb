{
 "cells": [
  {
   "cell_type": "code",
   "execution_count": null,
   "id": "f462db27-25d6-46e1-b74b-cbf826db8c67",
   "metadata": {},
   "outputs": [],
   "source": [
    "test = (1,2,3)\n",
    "print(test[1])"
   ]
  },
  {
   "cell_type": "code",
   "execution_count": null,
   "id": "00974bfc-8578-4aa3-b02a-70d260935fb8",
   "metadata": {},
   "outputs": [],
   "source": [
    "print('?')"
   ]
  }
 ],
 "metadata": {
  "kernelspec": {
   "display_name": "Python 3 (ipykernel)",
   "language": "python",
   "name": "python3"
  },
  "language_info": {
   "codemirror_mode": {
    "name": "ipython",
    "version": 3
   },
   "file_extension": ".py",
   "mimetype": "text/x-python",
   "name": "python",
   "nbconvert_exporter": "python",
   "pygments_lexer": "ipython3",
   "version": "3.9.9"
  }
 },
 "nbformat": 4,
 "nbformat_minor": 5
}
