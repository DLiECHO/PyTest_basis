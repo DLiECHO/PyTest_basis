{
 "cells": [
  {
   "cell_type": "code",
   "execution_count": null,
   "metadata": {},
   "outputs": [],
   "source": [
    "players = ['charles','martina','michael','florence','eli']\n",
    "print(players[0:3])\n",
    "print(players[2:])\n",
    "print(players[-1:])\n",
    "print(players[-4:])\n",
    "for i in players[1:5]:\n",
    "    print(i.title())"
   ]
  },
  {
   "cell_type": "code",
   "execution_count": null,
   "metadata": {},
   "outputs": [],
   "source": [
    "food = ['banan','opera','apple']\n",
    "myfood = food\n",
    "print('there are some food: ')\n",
    "print(food)\n",
    "print(myfood)\n",
    "myfood.append('???')\n",
    "print(food)\n",
    "print(myfood)\n",
    "#del(food)\n",
    "#print(myfood)\n",
    "food = list()\n",
    "print(food)\n",
    "print(myfood)"
   ]
  },
  {
   "cell_type": "code",
   "execution_count": null,
   "metadata": {},
   "outputs": [],
   "source": [
    "food = ['x','y','z']\n",
    "myfood = food[:]\n",
    "print(food)\n",
    "print(myfood)\n",
    "myfood.append('w')\n",
    "print(food)\n",
    "print(myfood)"
   ]
  }
 ],
 "metadata": {
  "kernelspec": {
   "display_name": "Python 3",
   "language": "python",
   "name": "python3"
  },
  "language_info": {
   "codemirror_mode": {
    "name": "ipython",
    "version": 3
   },
   "file_extension": ".py",
   "mimetype": "text/x-python",
   "name": "python",
   "nbconvert_exporter": "python",
   "pygments_lexer": "ipython3",
   "version": "3.8.2"
  }
 },
 "nbformat": 4,
 "nbformat_minor": 4
}
