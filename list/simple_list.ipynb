{
 "cells": [
  {
   "cell_type": "code",
   "execution_count": null,
   "metadata": {},
   "outputs": [],
   "source": [
    "bicycles = [1, 'cannondale', 'redline', 'specialized']\n",
    "print(bicycles[0]+2)\n",
    "print(bicycles[1]+'!')\n",
    "print(bicycles[-1] + \" \" + bicycles[-3])"
   ]
  },
  {
   "cell_type": "code",
   "execution_count": null,
   "metadata": {},
   "outputs": [],
   "source": [
    "bicycles[0] = 'pigeon'\n",
    "bicycles.append('haha')\n",
    "bicycles.insert(0,'zhangsan')\n",
    "del bicycles[3]\n",
    "print(bicycles)"
   ]
  },
  {
   "cell_type": "code",
   "execution_count": null,
   "metadata": {},
   "outputs": [],
   "source": [
    "s = bicycles.pop()\n",
    "s0 = bicycles.pop(1)\n",
    "print(s + \" \" + s0)\n",
    "print(bicycles)"
   ]
  },
  {
   "cell_type": "code",
   "execution_count": null,
   "metadata": {},
   "outputs": [],
   "source": [
    "bicycles.remove(1)\n",
    "bicycles.remove('redline')\n",
    "print(bicycles)"
   ]
  },
  {
   "cell_type": "code",
   "execution_count": null,
   "metadata": {},
   "outputs": [],
   "source": [
    "car = ['c', 'a', 'r']\n",
    "car.sort()\n",
    "print(car)\n",
    "car.sort(reverse = True)\n",
    "print(car)\n",
    "car = [1,2,3,4]\n",
    "print(sorted(car))\n",
    "print(sorted(car, reverse = True))\n",
    "#car.sort(reverse = True)\n",
    "print(car)"
   ]
  },
  {
   "cell_type": "code",
   "execution_count": null,
   "metadata": {},
   "outputs": [],
   "source": [
    "book = ['a', 'c', 'b', 'd']\n",
    "book.reverse()\n",
    "print(book)"
   ]
  },
  {
   "cell_type": "code",
   "execution_count": null,
   "metadata": {},
   "outputs": [],
   "source": [
    "len(book)"
   ]
  },
  {
   "cell_type": "code",
   "execution_count": null,
   "metadata": {},
   "outputs": [],
   "source": [
    "print(book)\n",
    "book[-1]\n",
    "#搜寻列表最后一个元素时可以善用list[-1]，避免由“起始编号为0”引发的计数错误，这种方法除非list为空，否则不会轻易出错"
   ]
  }
 ],
 "metadata": {
  "kernelspec": {
   "display_name": "Python 3",
   "language": "python",
   "name": "python3"
  },
  "language_info": {
   "codemirror_mode": {
    "name": "ipython",
    "version": 3
   },
   "file_extension": ".py",
   "mimetype": "text/x-python",
   "name": "python",
   "nbconvert_exporter": "python",
   "pygments_lexer": "ipython3",
   "version": "3.8.2"
  },
  "toc-showcode": true
 },
 "nbformat": 4,
 "nbformat_minor": 4
}
