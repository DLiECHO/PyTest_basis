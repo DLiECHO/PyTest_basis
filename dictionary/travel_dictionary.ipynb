{
 "cells": [
  {
   "cell_type": "code",
   "execution_count": null,
   "metadata": {},
   "outputs": [],
   "source": [
    "user_0 = {\n",
    "    'username': 'efermi',\n",
    "    'first': 'enrico',\n",
    "    'last': 'fermi',\n",
    "}\n",
    "for k, v in user_0.items():\n",
    "    print('Key: ' + k)\n",
    "    print('Value: ' + v + '\\n')"
   ]
  },
  {
   "cell_type": "code",
   "execution_count": null,
   "metadata": {},
   "outputs": [],
   "source": [
    "t = [v for v in user_0.values()] #遍历字典中所有值\n",
    "for i in t:\n",
    "    print(i + '\\n')\n",
    "t1 = [v for v in user_0] #默认遍历为遍历字典中的键\n",
    "for i in t1:\n",
    "    print(i + '\\n')"
   ]
  },
  {
   "cell_type": "code",
   "execution_count": null,
   "metadata": {},
   "outputs": [],
   "source": [
    "favorite_languages = {\n",
    "    'jen': 'python',\n",
    "    'sarah': 'c',\n",
    "    'edward': 'ruby',\n",
    "    'phil': 'java'\n",
    "}\n",
    "friend = ['sarah', '123']\n",
    "for name in favorite_languages:\n",
    "    print(name.title() + '!')\n",
    "    if name == 'sarah':\n",
    "        print('\\tHe love ' + \n",
    "             favorite_languages[name] + \n",
    "             '!!!')\n",
    "    if name not in friend:\n",
    "        print(\"He/She isn't my friend: \" + \n",
    "             name + \n",
    "             ', maybe becaues he love ' +\n",
    "             favorite_languages[name])"
   ]
  },
  {
   "cell_type": "code",
   "execution_count": 3,
   "metadata": {},
   "outputs": [
    {
     "name": "stdout",
     "output_type": "stream",
     "text": [
      "1: 2\n",
      "2: 3\n",
      "name: dali\n",
      "1f: 1\n",
      "2f: 1\n",
      "boolf: True\n",
      "t1: test\n",
      "t2: test\n",
      "\n",
      "2f: 1\n",
      "2: 3\n",
      "t1: test\n",
      "boolf: True\n",
      "1: 2\n",
      "1f: 1\n",
      "name: dali\n",
      "t2: test\n",
      "\n",
      "1\n",
      "2\n",
      "3\n",
      "dali\n",
      "test\n",
      "\n",
      "{1: 2, 2: 3, 'name': 'dali', '1f': 1, '2f': 1, 'boolf': True, 't1': 'test', 't2': 'test'}\n"
     ]
    }
   ],
   "source": [
    "di = {\n",
    "    1: 2,\n",
    "    2: 3,\n",
    "    'name': 'li',\n",
    "    'name': 'dali',\n",
    "    '1f': 1,\n",
    "    '2f': 1,\n",
    "    'boolf': True,\n",
    "    't1': 'test',\n",
    "    't2': 'test'\n",
    "}#因为对象中中存在数值1，所以生成集合的后无true，bool值true被1代替，同理0将代替false\n",
    "for k,v in di.items():\n",
    "    print(str(k) + ': ' + str(v))\n",
    "print()\n",
    "for k,v in set(di.items()):\n",
    "    print(str(k) + ': ' + str(v))\n",
    "print()\n",
    "for v in set(di.values()):\n",
    "    print(str(v))\n",
    "print()\n",
    "print(di)"
   ]
  }
 ],
 "metadata": {
  "kernelspec": {
   "display_name": "Python 3",
   "language": "python",
   "name": "python3"
  },
  "language_info": {
   "codemirror_mode": {
    "name": "ipython",
    "version": 3
   },
   "file_extension": ".py",
   "mimetype": "text/x-python",
   "name": "python",
   "nbconvert_exporter": "python",
   "pygments_lexer": "ipython3",
   "version": "3.8.2"
  }
 },
 "nbformat": 4,
 "nbformat_minor": 4
}
