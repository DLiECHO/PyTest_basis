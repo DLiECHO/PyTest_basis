{
 "cells": [
  {
   "cell_type": "code",
   "execution_count": 1,
   "metadata": {},
   "outputs": [
    {
     "name": "stdout",
     "output_type": "stream",
     "text": [
      "Key: username\n",
      "Value: efermi\n",
      "\n",
      "Key: first\n",
      "Value: enrico\n",
      "\n",
      "Key: last\n",
      "Value: fermi\n",
      "\n"
     ]
    }
   ],
   "source": [
    "user_0 = {\n",
    "    'username': 'efermi',\n",
    "    'first': 'enrico',\n",
    "    'last': 'fermi',\n",
    "}\n",
    "for k, v in user_0.items():\n",
    "    print('Key: ' + k)\n",
    "    print('Value: ' + v + '\\n')"
   ]
  },
  {
   "cell_type": "code",
   "execution_count": 4,
   "metadata": {},
   "outputs": [
    {
     "name": "stdout",
     "output_type": "stream",
     "text": [
      "efermi\n",
      "\n",
      "enrico\n",
      "\n",
      "fermi\n",
      "\n",
      "username\n",
      "\n",
      "first\n",
      "\n",
      "last\n",
      "\n"
     ]
    }
   ],
   "source": [
    "t = [v for v in user_0.values()] #遍历字典中所有值\n",
    "for i in t:\n",
    "    print(i + '\\n')\n",
    "t1 = [v for v in user_0] #默认遍历为遍历字典中的键\n",
    "for i in t1:\n",
    "    print(i + '\\n')"
   ]
  },
  {
   "cell_type": "code",
   "execution_count": 41,
   "metadata": {},
   "outputs": [
    {
     "name": "stdout",
     "output_type": "stream",
     "text": [
      "Jen!\n",
      "He/She isn't my friend: jen, maybe becaues he love python\n",
      "Sarah!\n",
      "\tHe love c!!!\n",
      "Edward!\n",
      "He/She isn't my friend: edward, maybe becaues he love ruby\n",
      "Phil!\n",
      "He/She isn't my friend: phil, maybe becaues he love java\n"
     ]
    }
   ],
   "source": [
    "favorite_languages = {\n",
    "    'jen': 'python',\n",
    "    'sarah': 'c',\n",
    "    'edward': 'ruby',\n",
    "    'phil': 'java'\n",
    "}\n",
    "friend = ['sarah', '123']\n",
    "for name in favorite_languages:\n",
    "    print(name.title() + '!')\n",
    "    if name == 'sarah':\n",
    "        print('\\tHe love ' + \n",
    "             favorite_languages[name] + \n",
    "             '!!!')\n",
    "    if name not in friend:\n",
    "        print(\"He/She isn't my friend: \" + \n",
    "             name + \n",
    "             ', maybe becaues he love ' +\n",
    "             favorite_languages[name])"
   ]
  }
 ],
 "metadata": {
  "kernelspec": {
   "display_name": "Python 3",
   "language": "python",
   "name": "python3"
  },
  "language_info": {
   "codemirror_mode": {
    "name": "ipython",
    "version": 3
   },
   "file_extension": ".py",
   "mimetype": "text/x-python",
   "name": "python",
   "nbconvert_exporter": "python",
   "pygments_lexer": "ipython3",
   "version": "3.8.2"
  }
 },
 "nbformat": 4,
 "nbformat_minor": 4
}
