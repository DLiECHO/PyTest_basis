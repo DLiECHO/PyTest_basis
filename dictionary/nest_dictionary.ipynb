{
 "cells": [
  {
   "cell_type": "code",
   "execution_count": null,
   "metadata": {},
   "outputs": [],
   "source": [
    "a_0 = {'color': 'green', 'point': 5}\n",
    "a_1 = {'color': 'green', 'point': 5}\n",
    "a = [a_0,a_1]\n",
    "print(a)\n",
    "for x in a:\n",
    "    print(x)"
   ]
  },
  {
   "cell_type": "code",
   "execution_count": null,
   "metadata": {},
   "outputs": [],
   "source": [
    "aliens = []\n",
    "for a in range(30):\n",
    "    new_a = {'color': 'green', 'points': a, 'speed': 'slow'}\n",
    "    aliens.append(new_a)\n",
    "    \n",
    "for a in aliens[-1:]:\n",
    "    print(a)\n",
    "    \n",
    "print(\"Total number of aliens: \" + str(len(aliens)))\n",
    "print(aliens)"
   ]
  },
  {
   "cell_type": "code",
   "execution_count": null,
   "metadata": {},
   "outputs": [],
   "source": [
    "usersForA = {\n",
    "    'dliecho': {\n",
    "        'first': 'D',\n",
    "        'last': 'L',\n",
    "        'location': ['Hogwarts', 'China']\n",
    "    },\n",
    "    'dliblink': {\n",
    "        'first': 'd',\n",
    "        'last': 'l',\n",
    "        'location': ['T', 'P']\n",
    "    }\n",
    "}\n",
    "\n",
    "usersForB = {\n",
    "    'Jay': {\n",
    "        'first': 'J',\n",
    "        'last': 'Y',\n",
    "        'location': ['china', 'China']\n",
    "    },\n",
    "    'Chou': {\n",
    "        'first': 'C',\n",
    "        'last': 'U',\n",
    "        'location': ['Earth', 'China']\n",
    "    }\n",
    "}\n",
    "\n",
    "T = [ usersForA , usersForB]\n",
    "print(T)"
   ]
  }
 ],
 "metadata": {
  "kernelspec": {
   "display_name": "Python 3 (ipykernel)",
   "language": "python",
   "name": "python3"
  },
  "language_info": {
   "codemirror_mode": {
    "name": "ipython",
    "version": 3
   },
   "file_extension": ".py",
   "mimetype": "text/x-python",
   "name": "python",
   "nbconvert_exporter": "python",
   "pygments_lexer": "ipython3",
   "version": "3.9.9"
  }
 },
 "nbformat": 4,
 "nbformat_minor": 4
}
